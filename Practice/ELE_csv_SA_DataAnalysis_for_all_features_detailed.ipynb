{
  "cells": [
    {
      "cell_type": "code",
      "execution_count": null,
      "metadata": {
        "id": "gTeVq_6q05Nr"
      },
      "outputs": [
        {
          "ename": "",
          "evalue": "",
          "output_type": "error",
          "traceback": [
            "\u001b[1;31mRunning cells with '.venv (Python 3.13.3)' requires the ipykernel package.\n",
            "\u001b[1;31mInstall 'ipykernel' into the Python environment. \n",
            "\u001b[1;31mCommand: '\"c:/Users/impra/Desktop/IIT BHU Projects/.venv/Scripts/python.exe\" -m pip install ipykernel -U --force-reinstall'"
          ]
        }
      ],
      "source": [
        "import pandas as pd # data processing, CSV file I/O (e.g. pd.read_csv), data manipulation as in SQL\n",
        "import matplotlib.pyplot as plt # this is used for the plot the graph\n",
        "import seaborn as sns # used for plot interactive graph."
      ]
    },
    {
      "cell_type": "code",
      "execution_count": null,
      "metadata": {
        "id": "EtgZAPeEaYiP"
      },
      "outputs": [],
      "source": [
        "plt.rcParams['pdf.fonttype'] = 42\n",
        "plt.rcParams['ps.fonttype'] = 42"
      ]
    },
    {
      "cell_type": "code",
      "execution_count": null,
      "metadata": {
        "id": "LzcTsoak05Nu"
      },
      "outputs": [],
      "source": [
        "df = pd.read_csv(\"/content/ele.csv\",index_col='date',parse_dates=True)"
      ]
    },
    {
      "cell_type": "code",
      "execution_count": null,
      "metadata": {
        "colab": {
          "base_uri": "https://localhost:8080/",
          "height": 455
        },
        "id": "nceGFFc-05Nv",
        "outputId": "b6a1b4d0-cec8-4d8f-8de8-2848c5e86f43",
        "scrolled": true
      },
      "outputs": [],
      "source": [
        "df"
      ]
    },
    {
      "cell_type": "code",
      "execution_count": null,
      "metadata": {
        "id": "3rTC6_TZm9IM"
      },
      "outputs": [],
      "source": [
        "#df = df.drop([\"Unnamed: 6\"], axis = 1)"
      ]
    },
    {
      "cell_type": "code",
      "execution_count": null,
      "metadata": {
        "id": "AzvGKB-F4QCQ"
      },
      "outputs": [],
      "source": [
        "df['Total'] = df.sum(axis=1, numeric_only = True)"
      ]
    },
    {
      "cell_type": "code",
      "execution_count": null,
      "metadata": {
        "colab": {
          "base_uri": "https://localhost:8080/",
          "height": 455
        },
        "id": "WVYh2DrRndj7",
        "outputId": "83919b38-3468-44bb-ddfa-e93f9601a946"
      },
      "outputs": [],
      "source": [
        "df"
      ]
    },
    {
      "cell_type": "code",
      "execution_count": null,
      "metadata": {
        "colab": {
          "base_uri": "https://localhost:8080/",
          "height": 1000
        },
        "id": "EsafvkAW05Nw",
        "outputId": "a7038cd2-6ad9-495b-d257-87b1e1d17366"
      },
      "outputs": [],
      "source": [
        "\n",
        "df.index.names=['date']\n",
        "df.head(50)"
      ]
    },
    {
      "cell_type": "code",
      "execution_count": null,
      "metadata": {
        "colab": {
          "base_uri": "https://localhost:8080/"
        },
        "id": "OOHfkLFf05Nx",
        "outputId": "1ebc4d74-aef1-4d79-e504-313b1eff2425"
      },
      "outputs": [],
      "source": [
        "df.isnull().sum()"
      ]
    },
    {
      "cell_type": "code",
      "execution_count": null,
      "metadata": {
        "colab": {
          "base_uri": "https://localhost:8080/"
        },
        "id": "5cyvTRB005Nx",
        "outputId": "bd9cfc19-17b0-45d2-9215-200b4c968ecd",
        "scrolled": false
      },
      "outputs": [],
      "source": [
        "colm = list(df.columns)\n",
        "colm"
      ]
    },
    {
      "cell_type": "code",
      "execution_count": null,
      "metadata": {
        "colab": {
          "base_uri": "https://localhost:8080/"
        },
        "id": "hhxIhtWo05Ny",
        "outputId": "015af69c-c60b-4b9b-e6a1-0e3dbf84276c"
      },
      "outputs": [],
      "source": [
        "df.max()"
      ]
    },
    {
      "cell_type": "code",
      "execution_count": null,
      "metadata": {
        "colab": {
          "base_uri": "https://localhost:8080/",
          "height": 300
        },
        "id": "nG-vHjlXoQNn",
        "outputId": "8e49d207-ceba-408f-ea32-e2853af20dc3"
      },
      "outputs": [],
      "source": [
        "df.describe()"
      ]
    },
    {
      "cell_type": "code",
      "execution_count": null,
      "metadata": {
        "colab": {
          "base_uri": "https://localhost:8080/"
        },
        "id": "Px4tJko105Ny",
        "outputId": "01bf5885-6b5b-422c-b58d-430782e31af1",
        "scrolled": true
      },
      "outputs": [],
      "source": [
        "df.idxmax()"
      ]
    },
    {
      "cell_type": "code",
      "execution_count": null,
      "metadata": {
        "id": "K3N9g2eE05Ny"
      },
      "outputs": [],
      "source": [
        "# df.loc['19/12/2013 09:00':'19/12/2013 14:00',:]"
      ]
    },
    {
      "cell_type": "code",
      "execution_count": null,
      "metadata": {
        "id": "QgBTVmGT05Nz"
      },
      "outputs": [],
      "source": [
        "for s in colm:\n",
        "    df[s]=df[s].mask(df[s]>500)\n",
        "    df[s].fillna(df[s].mean(),inplace=True)"
      ]
    },
    {
      "cell_type": "code",
      "execution_count": null,
      "metadata": {
        "colab": {
          "base_uri": "https://localhost:8080/"
        },
        "id": "kVRjecE205Nz",
        "outputId": "593a4459-390e-428c-ba71-0e08a6195821"
      },
      "outputs": [],
      "source": [
        "df.isnull().sum()"
      ]
    },
    {
      "cell_type": "code",
      "execution_count": null,
      "metadata": {
        "colab": {
          "base_uri": "https://localhost:8080/",
          "height": 237
        },
        "id": "IrJCFTgK05N0",
        "outputId": "38a1de06-5efe-4c2e-bdf5-9271454869fc"
      },
      "outputs": [],
      "source": [
        "df.tail()"
      ]
    },
    {
      "cell_type": "code",
      "execution_count": null,
      "metadata": {
        "colab": {
          "base_uri": "https://localhost:8080/"
        },
        "id": "n8FJG6n405N0",
        "outputId": "cfe3bf4f-6ce3-4266-8386-7576f832baee",
        "scrolled": false
      },
      "outputs": [],
      "source": [
        "print(df.info())"
      ]
    },
    {
      "cell_type": "code",
      "execution_count": null,
      "metadata": {
        "colab": {
          "base_uri": "https://localhost:8080/",
          "height": 1000
        },
        "id": "eSyX28jx05N1",
        "outputId": "f22bb0ed-77f2-4bbb-d36b-263ca04f1a90"
      },
      "outputs": [],
      "source": [
        "# from google.colab import files\n",
        "# plt.rcParams['figure.figsize'] = [20, 20]\n",
        "# plt.rc('axes', titlesize=50)\n",
        "# plt.rc('axes', labelsize=50)\n",
        "# plt.rc('xtick', labelsize=50)\n",
        "# plt.rc('ytick', labelsize=50)\n",
        "# df[colm[0]].plot()\n",
        "# plt.xticks(rotation = 45)\n",
        "# #plt.title(\"Indoor air temperature environment.datatotal \"+df.columns[0])\n",
        "# plt.title(\"Energy usage in \" +df.columns[0])\n",
        "# plt.ylabel('Energy[KW]')\n",
        "# plt.tight_layout()\n",
        "# plt.savefig('mels_S.pdf', dpi = 1200)\n",
        "# files.download('mels_S.pdf')\n"
      ]
    },
    {
      "cell_type": "code",
      "execution_count": null,
      "metadata": {
        "colab": {
          "base_uri": "https://localhost:8080/",
          "height": 1000
        },
        "id": "q_M7f0wotRhj",
        "outputId": "923db279-583b-4c67-b0b5-518fc881e1a3"
      },
      "outputs": [],
      "source": [
        "# from google.colab import files\n",
        "# plt.rcParams['figure.figsize'] = [20, 20]\n",
        "# plt.rc('axes', titlesize=50)\n",
        "# plt.rc('axes', labelsize=50)\n",
        "# plt.rc('xtick', labelsize=50)\n",
        "# plt.rc('ytick', labelsize=50)\n",
        "# df[colm[1]].plot()\n",
        "# plt.xticks(rotation = 45)\n",
        "# plt.title(\"Energy usage in \"+df.columns[1])\n",
        "# plt.ylabel('Energy[W]')\n",
        "# plt.tight_layout()\n",
        "# plt.savefig('lig_s.pdf', dpi = 1200)\n",
        "# files.download('lig_s.pdf')"
      ]
    },
    {
      "cell_type": "code",
      "execution_count": null,
      "metadata": {
        "colab": {
          "base_uri": "https://localhost:8080/",
          "height": 1000
        },
        "id": "ig0XnP84tRgf",
        "outputId": "5ddf1d33-2ccd-452c-8ce5-95d0d327340a"
      },
      "outputs": [],
      "source": [
        "# from google.colab import files\n",
        "# plt.rcParams['figure.figsize'] = [20, 20]\n",
        "# plt.rc('axes', titlesize=50)\n",
        "# plt.rc('axes', labelsize=50)\n",
        "# plt.rc('xtick', labelsize=50)\n",
        "# plt.rc('ytick', labelsize=50)\n",
        "# df[colm[2]].plot()\n",
        "# plt.xticks(rotation = 45)\n",
        "# plt.title(\"Energy usage in \"+df.columns[2])\n",
        "# plt.ylabel('Energy[W]')\n",
        "# plt.tight_layout()\n",
        "# plt.savefig('mels_N.pdf', dpi = 1200)\n",
        "# files.download('mels_N.pdf')"
      ]
    },
    {
      "cell_type": "code",
      "execution_count": null,
      "metadata": {
        "colab": {
          "base_uri": "https://localhost:8080/",
          "height": 1000
        },
        "id": "GD02xYVYtRTE",
        "outputId": "dd6a17e7-2d4c-436c-9a4d-a93e2858a8ee"
      },
      "outputs": [],
      "source": [
        "# from google.colab import files\n",
        "# plt.rcParams['figure.figsize'] = [20, 20]\n",
        "# plt.rc('axes', titlesize=50)\n",
        "# plt.rc('axes', labelsize=50)\n",
        "# plt.rc('xtick', labelsize=50)\n",
        "# plt.rc('ytick', labelsize=50)\n",
        "# df[colm[3]].plot()\n",
        "# plt.xticks(rotation = 45)\n",
        "# plt.title(\"Energy usage in \"+df.columns[3])\n",
        "# plt.ylabel('Energy[W]')\n",
        "# plt.tight_layout()\n",
        "# plt.savefig('hvac_N.pdf', dpi = 1200)\n",
        "# files.download('hvac_N.pdf')"
      ]
    },
    {
      "cell_type": "code",
      "execution_count": null,
      "metadata": {
        "colab": {
          "base_uri": "https://localhost:8080/",
          "height": 1000
        },
        "id": "TSXBzPibtROe",
        "outputId": "1834e033-75bd-4ed2-924c-addce3c2a191"
      },
      "outputs": [],
      "source": [
        "# from google.colab import files\n",
        "# plt.rcParams['figure.figsize'] = [20, 20]\n",
        "# plt.rc('axes', titlesize=50)\n",
        "# plt.rc('axes', labelsize=50)\n",
        "# plt.rc('xtick', labelsize=50)\n",
        "# plt.rc('ytick', labelsize=50)\n",
        "# df[colm[4]].plot()\n",
        "# plt.xticks(rotation = 45)\n",
        "# plt.title(\"Energy usage in \"+df.columns[4])\n",
        "# plt.ylabel('Energy[W]')\n",
        "# plt.tight_layout()\n",
        "# plt.savefig('hvac_S.pdf', dpi = 1200)\n",
        "# files.download('hvac_S.pdf')"
      ]
    },
    {
      "cell_type": "code",
      "execution_count": null,
      "metadata": {
        "colab": {
          "base_uri": "https://localhost:8080/"
        },
        "id": "o7sByFXQtRF2",
        "outputId": "8d06cb66-4ade-4a78-aec9-cbacb22d5a4d"
      },
      "outputs": [],
      "source": [
        "df2 = df.sum(axis = 1)\n",
        "df2"
      ]
    },
    {
      "cell_type": "code",
      "execution_count": null,
      "metadata": {
        "colab": {
          "base_uri": "https://localhost:8080/",
          "height": 432
        },
        "id": "KpRvZagd2fzQ",
        "outputId": "01e5d678-92d5-42f2-8cd4-e13e433b1af3"
      },
      "outputs": [],
      "source": [
        "df['Total'] = df.sum(axis=1, numeric_only = True)\n",
        "df"
      ]
    },
    {
      "cell_type": "code",
      "execution_count": null,
      "metadata": {
        "colab": {
          "base_uri": "https://localhost:8080/",
          "height": 1000
        },
        "id": "apNEG6XhtRDC",
        "outputId": "414d2ee0-47c6-4d21-ffd8-3271477954e6"
      },
      "outputs": [],
      "source": [
        "# from google.colab import files\n",
        "# plt.rcParams['figure.figsize'] = [20, 20]\n",
        "# plt.rc('axes', titlesize=50)\n",
        "# plt.rc('axes', labelsize=50)\n",
        "# plt.rc('xtick', labelsize=50)\n",
        "# plt.rc('ytick', labelsize=50)\n",
        "# df[colm[5]].plot()\n",
        "# plt.xticks(rotation = 45)\n",
        "# plt.title(\"Total Energy usage in \"+df.columns[5])\n",
        "# plt.ylabel('Energy[W]')\n",
        "# plt.tight_layout()\n",
        "# plt.savefig('total.pdf', dpi = 1200)\n",
        "# files.download('total.pdf')"
      ]
    }
  ],
  "metadata": {
    "colab": {
      "provenance": []
    },
    "kernelspec": {
      "display_name": ".venv",
      "language": "python",
      "name": "python3"
    },
    "language_info": {
      "codemirror_mode": {
        "name": "ipython",
        "version": 3
      },
      "file_extension": ".py",
      "mimetype": "text/x-python",
      "name": "python",
      "nbconvert_exporter": "python",
      "pygments_lexer": "ipython3",
      "version": "3.13.3"
    }
  },
  "nbformat": 4,
  "nbformat_minor": 0
}
